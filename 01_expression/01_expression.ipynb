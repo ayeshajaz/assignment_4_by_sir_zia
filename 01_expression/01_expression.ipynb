{
  "nbformat": 4,
  "nbformat_minor": 0,
  "metadata": {
    "colab": {
      "provenance": [],
      "authorship_tag": "ABX9TyMO2GXmaV6dAkCc21xEzMmP",
      "include_colab_link": true
    },
    "kernelspec": {
      "name": "python3",
      "display_name": "Python 3"
    },
    "language_info": {
      "name": "python"
    }
  },
  "cells": [
    {
      "cell_type": "markdown",
      "metadata": {
        "id": "view-in-github",
        "colab_type": "text"
      },
      "source": [
        "<a href=\"https://colab.research.google.com/github/ayeshajaz/assignment_4_by_sir_zia/blob/main/01_expression/01_expression.ipynb\" target=\"_parent\"><img src=\"https://colab.research.google.com/assets/colab-badge.svg\" alt=\"Open In Colab\"/></a>"
      ]
    },
    {
      "cell_type": "markdown",
      "source": [
        "## ***01 Dicesimulator***"
      ],
      "metadata": {
        "id": "FkgTP3VDAaG9"
      }
    },
    {
      "cell_type": "code",
      "execution_count": null,
      "metadata": {
        "colab": {
          "base_uri": "https://localhost:8080/"
        },
        "id": "IIhc7xZW-Cp0",
        "outputId": "e96af7e7-f030-47e6-b370-ef059b037d4c"
      },
      "outputs": [
        {
          "output_type": "stream",
          "name": "stdout",
          "text": [
            "01_dicesimulator\n",
            "die1 in main() start as :10\n",
            "Total of two dies is 9\n",
            "Total of two dies is 10\n",
            "Total of two dies is 5\n",
            "Total of two dies is 3\n",
            "die1 in main() is :10\n"
          ]
        }
      ],
      "source": [
        "import random\n",
        "print(\"01_dicesimulator\")\n",
        "\n",
        "def dice_simulator():\n",
        "  die1:int = random.randint(1,6)\n",
        "  die2:int = random.randint(1,6)\n",
        "  total:int = die1 + die2\n",
        "  print(f\"Total of two dies is {total}\")\n",
        "\n",
        "def main():\n",
        "  die1:int = 10\n",
        "  print(\"die1 in main() start as :\" + str(die1))\n",
        "  dice_simulator()\n",
        "  dice_simulator()\n",
        "  dice_simulator()\n",
        "  dice_simulator()\n",
        "  print(\"die1 in main() is :\" + str(die1))\n",
        "\n",
        "if __name__ == \"__main__\":\n",
        "  main()\n",
        "\n"
      ]
    },
    {
      "cell_type": "markdown",
      "source": [
        "## ***02 e-mc2***"
      ],
      "metadata": {
        "id": "UOqn8hr6UDj8"
      }
    },
    {
      "cell_type": "code",
      "source": [
        "print(\"02_e-mc2\")\n",
        "\n",
        "def energy():\n",
        "  c:float = 299729458\n",
        "  m:float = float(input(\"Enter kilos of mass : \"))\n",
        "  print(\"e = m*c^2\")\n",
        "  print(\"Mass =\" + str(m) + \" kg\")\n",
        "  print(\"C = \" + str(c) + \" m/s\")\n",
        "  print(\"e = \" + str(m * c ** 2) + \" jules\")\n",
        "\n",
        "if __name__ == \"__main__\":\n",
        "    energy()"
      ],
      "metadata": {
        "colab": {
          "base_uri": "https://localhost:8080/"
        },
        "id": "Mx12Rpf3USIo",
        "outputId": "4d02a7e3-e054-44b7-a8f6-1be74e09c23a"
      },
      "execution_count": null,
      "outputs": [
        {
          "output_type": "stream",
          "name": "stdout",
          "text": [
            "02_e-mc2\n",
            "Enter kilos of mass : 140\n",
            "e = m*c^2\n",
            "Mass =140.0 kg\n",
            "C = 299729458 m/s\n",
            "e = 1.2577284719016327e+19 jules\n"
          ]
        }
      ]
    },
    {
      "cell_type": "markdown",
      "source": [
        "## ***03 Feet to inches***"
      ],
      "metadata": {
        "id": "W3AESpj5Yocb"
      }
    },
    {
      "cell_type": "code",
      "source": [
        "from pickle import INST\n",
        "print(\"03_feet_to_inches\")\n",
        "\n",
        "inch:int = 12\n",
        "\n",
        "def foot():\n",
        "  feet:int = int(input(\"Enter feet : \"))\n",
        "  print(f\"There are {inch * feet} inches in {feet} feet.\")\n",
        "\n",
        "if __name__ == \"__main__\":\n",
        "  foot()"
      ],
      "metadata": {
        "colab": {
          "base_uri": "https://localhost:8080/"
        },
        "id": "ERxWmOxRYw5-",
        "outputId": "01eac9db-2777-40a5-a533-c4ef00e58af1"
      },
      "execution_count": null,
      "outputs": [
        {
          "output_type": "stream",
          "name": "stdout",
          "text": [
            "03_feet_to_inches\n",
            "Enter feet : 35\n",
            "There are 420 inches in 35 feet.\n"
          ]
        }
      ]
    },
    {
      "cell_type": "markdown",
      "source": [
        "## ***04 Pythagorean_theorem***"
      ],
      "metadata": {
        "id": "wPrsK1UOcVdi"
      }
    },
    {
      "cell_type": "code",
      "source": [
        "import math\n",
        "print(\"04_pythagorean_theorem\")\n",
        "\n",
        "def triangle():\n",
        "    ab: float = float(input(\"Enter the length of the side of ab : \"))\n",
        "    ac: float = float(input(\"Enter the length of the side of ac : \"))\n",
        "    bc: float = math.sqrt(ab**2 + ac**2)\n",
        "    print(f\"The length of bc (the hypotenuse) is: {bc}\")\n",
        "\n",
        "if __name__ == \"__main__\":\n",
        "    triangle()\n"
      ],
      "metadata": {
        "colab": {
          "base_uri": "https://localhost:8080/"
        },
        "id": "G6qnO4recepZ",
        "outputId": "efe57a98-7352-468c-b1c4-2cecb732a417"
      },
      "execution_count": null,
      "outputs": [
        {
          "name": "stdout",
          "output_type": "stream",
          "text": [
            "04_pythagorean_theorem\n",
            "Enter the length of the side of ab : 5.2\n"
          ]
        }
      ]
    },
    {
      "cell_type": "markdown",
      "source": [
        "## ***05 Remainder_division***"
      ],
      "metadata": {
        "id": "izkKkAo_ZiIg"
      }
    },
    {
      "cell_type": "code",
      "source": [
        "print(\"05_remainder_division\")\n",
        "\n",
        "def reminder():\n",
        "  num1:int = int(input(\"Enter an integer to divide by : \"))\n",
        "  num2:int = int(input(\"Enter an integer to divide by : \"))\n",
        "\n",
        "  quotient:int = num1 // num2\n",
        "  reminder:int = num1 % num2\n",
        "\n",
        "  print(f\"The result of this division is {quotient} with a reminder of {reminder}.\")\n",
        "\n",
        "if __name__ == \"__main__\":\n",
        "  reminder()"
      ],
      "metadata": {
        "colab": {
          "base_uri": "https://localhost:8080/"
        },
        "id": "FvEvq7IqZuNW",
        "outputId": "15b241be-99b5-40c8-d6c5-eb5a7ebb030c"
      },
      "execution_count": null,
      "outputs": [
        {
          "output_type": "stream",
          "name": "stdout",
          "text": [
            "05_remainder_division\n",
            "Enter an integer to divide by : 56\n",
            "Enter an integer to divide by : 6\n",
            "The result of this division is 9 with a reminder of 2.\n"
          ]
        }
      ]
    },
    {
      "cell_type": "markdown",
      "source": [
        "### ***06_Rolldice***"
      ],
      "metadata": {
        "id": "svmvDAK8cnzy"
      }
    },
    {
      "cell_type": "code",
      "source": [
        "import random\n",
        "print(\"06_rolldice\")\n",
        "\n",
        "def roll_dice():\n",
        "  die1:int = random.randint(1,6)\n",
        "  die2:int = random.randint(1,6)\n",
        "  total:int = int(die1 + die2)\n",
        "  print(\"First die:\" + str(die1))\n",
        "  print(\"Second die:\" + str(die2))\n",
        "  print(f'Total of two dies is {total}')\n",
        "\n",
        "if __name__ == \"__main__\":\n",
        "  roll_dice()"
      ],
      "metadata": {
        "colab": {
          "base_uri": "https://localhost:8080/"
        },
        "id": "HEJ64bficvjs",
        "outputId": "7a745078-2884-4c3a-e56d-98bc2ffc5266"
      },
      "execution_count": null,
      "outputs": [
        {
          "output_type": "stream",
          "name": "stdout",
          "text": [
            "06_rolldice\n",
            "First die:4\n",
            "Second die:4\n",
            "Total of two dies is 8\n"
          ]
        }
      ]
    },
    {
      "cell_type": "markdown",
      "source": [
        "### ***06_seconds_in_year***"
      ],
      "metadata": {
        "id": "NfPvoWGJfs3C"
      }
    },
    {
      "cell_type": "code",
      "source": [
        "print(\"06_seconds_in_year\")\n",
        "\n",
        "days_in_year:int = 365\n",
        "hours_in_day:int = 24\n",
        "minutes_in_hour:int = 60\n",
        "seconds_in_minute:int = 60\n",
        "\n",
        "def seconds_in_year():\n",
        "  print(f\"There are {days_in_year * hours_in_day * minutes_in_hour * seconds_in_minute} seconds in a year.\")\n",
        "\n",
        "if __name__ == \"__main__\":\n",
        "  seconds_in_year()"
      ],
      "metadata": {
        "colab": {
          "base_uri": "https://localhost:8080/"
        },
        "id": "jYVd0gbbf3BL",
        "outputId": "44a3b6e9-0ab1-4d36-c646-2d84a6a96038"
      },
      "execution_count": null,
      "outputs": [
        {
          "output_type": "stream",
          "name": "stdout",
          "text": [
            "06_seconds_in_year\n",
            "There are 31536000 seconds in a year.\n"
          ]
        }
      ]
    },
    {
      "cell_type": "markdown",
      "source": [
        "### ***07_Tiny_mad_lib***"
      ],
      "metadata": {
        "id": "6ejhARS3iGL2"
      }
    },
    {
      "cell_type": "code",
      "source": [
        "print(\"07_tiny_mad_lib\")\n",
        "\n",
        "def mad_lib():\n",
        "  noun:str = str(input(\"Enter a noun : \"))\n",
        "  adjective:str = str(input(\"Enter an adjective : \"))\n",
        "  verb:str = str(input(\"Enter a verb : \"))\n",
        "  print(f\"Do you {verb} your {adjective} {noun} !\")\n",
        "\n",
        "if __name__ == \"__main__\":\n",
        "  mad_lib()\n"
      ],
      "metadata": {
        "colab": {
          "base_uri": "https://localhost:8080/"
        },
        "id": "zX6OWM8jiOk6",
        "outputId": "45320d4a-5b5d-45fa-a186-7bd4f54cbeba"
      },
      "execution_count": null,
      "outputs": [
        {
          "output_type": "stream",
          "name": "stdout",
          "text": [
            "07_tiny_mad_lib\n",
            "Enter a noun : Dog\n",
            "Enter an adjective : little\n",
            "Enter a verb : sleep\n",
            "Do you sleep your little Dog !\n"
          ]
        }
      ]
    }
  ]
}