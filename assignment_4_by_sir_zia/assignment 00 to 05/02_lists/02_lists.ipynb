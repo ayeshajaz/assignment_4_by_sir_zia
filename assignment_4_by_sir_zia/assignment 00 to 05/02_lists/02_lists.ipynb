{
  "nbformat": 4,
  "nbformat_minor": 0,
  "metadata": {
    "colab": {
      "provenance": [],
      "authorship_tag": "ABX9TyMjpLL8M8bLTLSCRGYOmLJV",
      "include_colab_link": true
    },
    "kernelspec": {
      "name": "python3",
      "display_name": "Python 3"
    },
    "language_info": {
      "name": "python"
    }
  },
  "cells": [
    {
      "cell_type": "markdown",
      "metadata": {
        "id": "view-in-github",
        "colab_type": "text"
      },
      "source": [
        "<a href=\"https://colab.research.google.com/github/ayeshajaz/assignment_4_by_sir_zia/blob/main/assignment_4_by_sir_zia/assignment%2000%20to%2005/02_lists/02_lists.ipynb\" target=\"_parent\"><img src=\"https://colab.research.google.com/assets/colab-badge.svg\" alt=\"Open In Colab\"/></a>"
      ]
    },
    {
      "cell_type": "markdown",
      "source": [
        "## ***01_add_many_number***"
      ],
      "metadata": {
        "id": "Q-RCWLjqWwuC"
      }
    },
    {
      "cell_type": "code",
      "execution_count": null,
      "metadata": {
        "colab": {
          "base_uri": "https://localhost:8080/"
        },
        "id": "fATt7dI3WX3a",
        "outputId": "39364bba-e293-4ea9-f444-02f2af382fab"
      },
      "outputs": [
        {
          "output_type": "stream",
          "name": "stdout",
          "text": [
            "01_add_many_number\n",
            "15\n"
          ]
        }
      ],
      "source": [
        "print(\"01_add_many_number\")\n",
        "\n",
        "def add_num(numbers)-> int:\n",
        "  num:int = 0\n",
        "  for i in numbers:\n",
        "    num += i\n",
        "  return num\n",
        "\n",
        "def main():\n",
        "  numbers:list[int] = [1, 2, 3, 4, 5]\n",
        "  sum = add_num(numbers)\n",
        "  print(sum)\n",
        "\n",
        "if __name__ == \"__main__\":\n",
        "  main()"
      ]
    },
    {
      "cell_type": "markdown",
      "source": [
        "## ***02_double_list***"
      ],
      "metadata": {
        "id": "DohJHkv6ZI1o"
      }
    },
    {
      "cell_type": "code",
      "source": [
        "print(\"02_double_list\")\n",
        "\n",
        "def main():\n",
        "  numbers:list[int] = [1, 2, 3, 4, 5]\n",
        "  for i in range(len(numbers)):\n",
        "    index = numbers[i]\n",
        "    numbers[i] = index * 2\n",
        "  print(numbers)\n",
        "\n",
        "if __name__ == \"__main__\":\n",
        "  main()\n"
      ],
      "metadata": {
        "colab": {
          "base_uri": "https://localhost:8080/"
        },
        "id": "OtwLMJ1WYGTK",
        "outputId": "8323a0a6-07d1-4d94-9e4d-c6ac97866d08"
      },
      "execution_count": null,
      "outputs": [
        {
          "output_type": "stream",
          "name": "stdout",
          "text": [
            "02_double_list\n",
            "[2, 4, 6, 8, 10]\n"
          ]
        }
      ]
    },
    {
      "cell_type": "markdown",
      "source": [
        "## ***04_flowing_with_data_structures***"
      ],
      "metadata": {
        "id": "3QVeEM4XbGX7"
      }
    },
    {
      "cell_type": "code",
      "source": [
        "print(\"04_flowing_with_data_structures\")\n",
        "\n",
        "def add_three_copies(lst, data):\n",
        "  for i in range(3):\n",
        "    lst.append(data)\n",
        "\n",
        "def main():\n",
        "  message = input(\"Enter a message to copy.\")\n",
        "  lst = []\n",
        "  print(\"Before List:\", lst)\n",
        "  add_three_copies(lst, message)\n",
        "  print(\"After List:\", lst)\n",
        "\n",
        "if __name__ == \"__main__\":\n",
        "  main()"
      ],
      "metadata": {
        "colab": {
          "base_uri": "https://localhost:8080/"
        },
        "id": "UAHvtqt6bOY-",
        "outputId": "567a4060-46bb-4c77-a48a-aa4934a9fb94"
      },
      "execution_count": null,
      "outputs": [
        {
          "output_type": "stream",
          "name": "stdout",
          "text": [
            "04_flowing_with_data_structures\n",
            "Enter a message to copy.HELLOW  CODING WORLD\n",
            "Before List: []\n",
            "After List: ['HELLOW  CODING WORLD', 'HELLOW  CODING WORLD', 'HELLOW  CODING WORLD']\n"
          ]
        }
      ]
    },
    {
      "cell_type": "markdown",
      "source": [
        "## ***05_get_first_element***"
      ],
      "metadata": {
        "id": "tcdw4oawdOzr"
      }
    },
    {
      "cell_type": "code",
      "source": [
        "print(\"05_get_first_element\")\n",
        "\n",
        "def get_element(lst):\n",
        "  print(lst[0])\n",
        "\n",
        "def get_lst():\n",
        "  lst = []\n",
        "  element:str = input(\"Enter an element to add to the list.\")\n",
        "  while element != \"\":\n",
        "    lst.append(element)\n",
        "    element = input(\"Enter an element to add to the list.\")\n",
        "  return lst\n",
        "\n",
        "def main():\n",
        "  lst = get_lst()\n",
        "  get_element(lst)\n",
        "\n",
        "if __name__ == \"__main__\":\n",
        "  main()"
      ],
      "metadata": {
        "colab": {
          "base_uri": "https://localhost:8080/"
        },
        "id": "_AKy5YOFbSLL",
        "outputId": "b1f667e6-8fea-449e-b546-3be6f5c72ced"
      },
      "execution_count": null,
      "outputs": [
        {
          "output_type": "stream",
          "name": "stdout",
          "text": [
            "05_get_first_element\n",
            "Enter an element to add to the list.o\n",
            "Enter an element to add to the list.w\n",
            "Enter an element to add to the list.c\n",
            "Enter an element to add to the list.n\n",
            "Enter an element to add to the list.m\n",
            "Enter an element to add to the list.e\n",
            "Enter an element to add to the list.\n",
            "o\n"
          ]
        }
      ]
    },
    {
      "cell_type": "markdown",
      "source": [
        "## ***06_get_last_element***"
      ],
      "metadata": {
        "id": "HmoC8eqIdx5X"
      }
    },
    {
      "cell_type": "code",
      "source": [
        "print(\"05_get_first_element\")\n",
        "\n",
        "def get_last_element(lst):\n",
        "  print(lst[-1])\n",
        "\n",
        "def get_lst():\n",
        "  lst = []\n",
        "  element:str = input(\"Enter an element to add to the list.\")\n",
        "  while element != \"\":\n",
        "    lst.append(element)\n",
        "    element = input(\"Enter an element to add to the list.\")\n",
        "  return lst\n",
        "\n",
        "def main():\n",
        "  lst = get_lst()\n",
        "  get_last_element(lst)\n",
        "\n",
        "if __name__ == \"__main__\":\n",
        "  main()"
      ],
      "metadata": {
        "colab": {
          "base_uri": "https://localhost:8080/"
        },
        "id": "d_gNg48WeQij",
        "outputId": "ae1f1ef4-c661-4ba1-b38f-34492d347c06"
      },
      "execution_count": null,
      "outputs": [
        {
          "output_type": "stream",
          "name": "stdout",
          "text": [
            "05_get_first_element\n",
            "Enter an element to add to the list.r\n",
            "Enter an element to add to the list.s\n",
            "Enter an element to add to the list.t\n",
            "Enter an element to add to the list.u\n",
            "Enter an element to add to the list.v\n",
            "Enter an element to add to the list.w\n",
            "Enter an element to add to the list.x\n",
            "Enter an element to add to the list.y\n",
            "Enter an element to add to the list.z\n",
            "Enter an element to add to the list.\n",
            "z\n"
          ]
        }
      ]
    },
    {
      "cell_type": "markdown",
      "source": [
        "## ***07_get_list***"
      ],
      "metadata": {
        "id": "barssb0OF1NA"
      }
    },
    {
      "cell_type": "code",
      "source": [
        "print(\"07_get_list\")\n",
        "\n",
        "def main():\n",
        "  lst = []\n",
        "  val = input(\"Enter a value to add to the list.\")\n",
        "  while val:\n",
        "    lst.append(val)\n",
        "    val = input(\"Enter a value to add to the list.\")\n",
        "  print(\"Here is the list:\", lst)\n",
        "\n",
        "if __name__ == \"__main__\":\n",
        "  main()"
      ],
      "metadata": {
        "id": "e8nFnhBiGEIU",
        "colab": {
          "base_uri": "https://localhost:8080/"
        },
        "outputId": "f22c8642-37c6-426c-ff28-afc085a7c45e"
      },
      "execution_count": 2,
      "outputs": [
        {
          "output_type": "stream",
          "name": "stdout",
          "text": [
            "07_get_list\n",
            "Enter a value to add to the list.amna\n",
            "Enter a value to add to the list.minsa\n",
            "Enter a value to add to the list.mirha\n",
            "Enter a value to add to the list.irha\n",
            "Enter a value to add to the list.farina\n",
            "Enter a value to add to the list.yashal\n",
            "Enter a value to add to the list.\n",
            "Here is the list: ['amna', 'minsa', 'mirha', 'irha', 'farina', 'yashal']\n"
          ]
        }
      ]
    },
    {
      "cell_type": "markdown",
      "source": [
        "## ***08_shorten***"
      ],
      "metadata": {
        "id": "u6Bgu1PFLD1a"
      }
    },
    {
      "cell_type": "code",
      "source": [
        "print(\"08_shorten\")\n",
        "\n",
        "max_length:int = 3\n",
        "\n",
        "def shorter(lst):\n",
        "  while len(lst) >= max_length:\n",
        "    last_element = lst.pop()\n",
        "    print(last_element)\n",
        "\n",
        "def get_lst():\n",
        "  lst = []\n",
        "  element = input(\"Enter an element to add to the list.\")\n",
        "  while element != \"\":\n",
        "    lst.append(element)\n",
        "    element = input(\"Enter an element to add to the list.\")\n",
        "  return lst\n",
        "\n",
        "def main():\n",
        "  lst = get_lst()\n",
        "  shorter(lst)\n",
        "\n",
        "if __name__ == \"__main__\":\n",
        "  main()"
      ],
      "metadata": {
        "colab": {
          "base_uri": "https://localhost:8080/"
        },
        "id": "5Q2h8PtMLMj4",
        "outputId": "ef00cfbb-af0b-4429-c9d4-5d491d08a299"
      },
      "execution_count": 5,
      "outputs": [
        {
          "output_type": "stream",
          "name": "stdout",
          "text": [
            "08_shorten\n",
            "Enter an element to add to the list.uib\n",
            "Enter an element to add to the list.opm\n",
            "Enter an element to add to the list.oppo\n",
            "Enter an element to add to the list.tumm\n",
            "Enter an element to add to the list.yumm\n",
            "Enter an element to add to the list.\n",
            "yumm\n",
            "tumm\n",
            "oppo\n"
          ]
        }
      ]
    }
  ]
}