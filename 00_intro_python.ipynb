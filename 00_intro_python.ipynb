{
  "nbformat": 4,
  "nbformat_minor": 0,
  "metadata": {
    "colab": {
      "provenance": [],
      "authorship_tag": "ABX9TyOaXw6uosAye9AOvJKiKTBY",
      "include_colab_link": true
    },
    "kernelspec": {
      "name": "python3",
      "display_name": "Python 3"
    },
    "language_info": {
      "name": "python"
    }
  },
  "cells": [
    {
      "cell_type": "markdown",
      "metadata": {
        "id": "view-in-github",
        "colab_type": "text"
      },
      "source": [
        "<a href=\"https://colab.research.google.com/github/ayeshajaz/assignment_4_by_sir_zia/blob/main/00_intro_python.ipynb\" target=\"_parent\"><img src=\"https://colab.research.google.com/assets/colab-badge.svg\" alt=\"Open In Colab\"/></a>"
      ]
    },
    {
      "cell_type": "markdown",
      "source": [
        "### ***01 Add two numbers***"
      ],
      "metadata": {
        "id": "inb-RfB_zdr9"
      }
    },
    {
      "cell_type": "code",
      "execution_count": null,
      "metadata": {
        "colab": {
          "base_uri": "https://localhost:8080/"
        },
        "id": "LtyKbxBayBiE",
        "outputId": "2f1850b3-db8b-4f40-ea39-0d686d50411c"
      },
      "outputs": [
        {
          "output_type": "stream",
          "name": "stdout",
          "text": [
            "01_add_two numbers\n",
            "This application for add two numbers\n",
            "Enter first number :6\n",
            "Enter second number :10\n",
            "The total sum of 6 and 10 is 16\n"
          ]
        }
      ],
      "source": [
        "print(\"01_add_two numbers\")\n",
        "\n",
        "def add():\n",
        "  print(\"This application for add two numbers\")\n",
        "  first_number = int(input(\"Enter first number :\"))\n",
        "  second_number = int(input(\"Enter second number :\"))\n",
        "  total = int(first_number + second_number)\n",
        "  print(f\"The total sum of {first_number} and {second_number} is {total}\")\n",
        "\n",
        "if __name__ == \"__main__\":\n",
        "  add()\n",
        "\n"
      ]
    },
    {
      "cell_type": "markdown",
      "source": [
        "### ***02 Agreement bot***"
      ],
      "metadata": {
        "id": "OHFL68v24ZBo"
      }
    },
    {
      "cell_type": "code",
      "source": [
        "print(\"02_agreement_bot\")\n",
        "\n",
        "def bot():\n",
        "  animal = str(input(\"what their favorite animal is? : \"))\n",
        "  print(f\"My favorite animal is also {animal}!\")\n",
        "\n",
        "if __name__ == \"__main__\":\n",
        "  bot()"
      ],
      "metadata": {
        "colab": {
          "base_uri": "https://localhost:8080/"
        },
        "id": "mce5I5p3zWp5",
        "outputId": "4060e26f-bcc1-4ea8-d95b-e70fb3b5ccee"
      },
      "execution_count": null,
      "outputs": [
        {
          "output_type": "stream",
          "name": "stdout",
          "text": [
            "02_agreement_bot\n",
            "what their favorite animal is? : cat\n",
            "My favorite animal is also cat!\n"
          ]
        }
      ]
    },
    {
      "cell_type": "markdown",
      "source": [
        "### ***03 Fahrenheit to celcius***"
      ],
      "metadata": {
        "id": "2-jsG2QM7egU"
      }
    },
    {
      "cell_type": "code",
      "source": [
        "print(\"03_fahrenheit_to_celcius\")\n",
        "\n",
        "def temp():\n",
        "  print(\"This code for converting fahrenhiet to celcius\")\n",
        "  fahrenheit_degree = float(input(\"Enter fahrenhiet degree : \"))\n",
        "  celcius_degree = (fahrenheit_degree - 32) * 5.0/9.0\n",
        "  print(f\"Temperature {fahrenheit_degree} F = {celcius_degree} C \")\n",
        "\n",
        "if __name__ == \"__main__\":\n",
        "  temp()"
      ],
      "metadata": {
        "id": "QPJE7ji075Iz",
        "colab": {
          "base_uri": "https://localhost:8080/"
        },
        "outputId": "fc2fa775-0795-4629-f942-e9b02f4fb67d"
      },
      "execution_count": null,
      "outputs": [
        {
          "output_type": "stream",
          "name": "stdout",
          "text": [
            "03_fahrenheit_to_celcius\n",
            "This code for converting fahrenhiet to celcius\n",
            "Enter fahrenhiet degree : 54\n",
            "Temperature 54.0 F = 12.222222222222221 C \n"
          ]
        }
      ]
    },
    {
      "cell_type": "markdown",
      "source": [
        "### ***04 How old are they***"
      ],
      "metadata": {
        "id": "IA3FQF_8tWZ0"
      }
    },
    {
      "cell_type": "code",
      "source": [
        "print(\"04_how_old_are_they\")\n",
        "\n",
        "def add_ages():\n",
        "  anthon:int = 21\n",
        "  beth:int = anthon + 6\n",
        "  chen:int = beth + 10\n",
        "  drew:int = chen + anthon\n",
        "  ethen:int = chen\n",
        "\n",
        "  print(\"Anthon is\" + str(anthon))\n",
        "  print(\"Beth is \" + str(beth))\n",
        "  print(\"Chen is \" + str(chen))\n",
        "  print(\"Drew is \" + str(drew))\n",
        "  print(\"Ethen is \" + str(ethen))\n",
        "\n",
        "if __name__ == \"__main__\":\n",
        "  add_ages()"
      ],
      "metadata": {
        "colab": {
          "base_uri": "https://localhost:8080/"
        },
        "id": "E-1yP3eZrryv",
        "outputId": "4f015cf5-4a28-43e6-fba0-a98179b27de8"
      },
      "execution_count": null,
      "outputs": [
        {
          "output_type": "stream",
          "name": "stdout",
          "text": [
            "04_how_old_are_they\n",
            "Anthon is21\n",
            "Beth is 27\n",
            "Chen is 37\n",
            "Drew is 58\n",
            "Ethen is 37\n"
          ]
        }
      ]
    },
    {
      "cell_type": "markdown",
      "source": [
        "### ***05 Triangle perimeter***"
      ],
      "metadata": {
        "id": "Jm0l0vfLxukx"
      }
    },
    {
      "cell_type": "code",
      "source": [
        "print(\"05_traingle_perimeter\")\n",
        "\n",
        "def triangle():\n",
        "  print(\"This code is about perimeter of triangle sides\")\n",
        "  side1:float = float(input(\"Enter first side no of triangle : \"))\n",
        "  side2:float = float(input(\"Enter second side no of triangle : \"))\n",
        "  side3:float = float(input(\"Enter third side no of triangle : \"))\n",
        "  total:float = float(side1 + side2 + side3)\n",
        "  print(f\"The perimeter of the triangle is {total}\")\n",
        "\n",
        "if __name__ == \"__main__\":\n",
        "  triangle()"
      ],
      "metadata": {
        "colab": {
          "base_uri": "https://localhost:8080/"
        },
        "id": "XvHpi6JeyEo_",
        "outputId": "6f401e92-912a-415b-daa8-187e399ea4a7"
      },
      "execution_count": null,
      "outputs": [
        {
          "output_type": "stream",
          "name": "stdout",
          "text": [
            "05_traingle_perimeter\n",
            "This code is about perimeter of triangle sides\n",
            "Enter first side no of triangle : 5.0\n",
            "Enter second side no of triangle : 8\n",
            "Enter third side no of triangle : 12\n",
            "The perimeter of the triangle is 25.0\n"
          ]
        }
      ]
    },
    {
      "cell_type": "markdown",
      "source": [
        "### ***06 Square numbers***"
      ],
      "metadata": {
        "id": "3J4FQoj-00b6"
      }
    },
    {
      "cell_type": "code",
      "source": [
        "print(\"06_square_numbers\")\n",
        "\n",
        "def square():\n",
        "  print(\"This code is about square of given number\")\n",
        "  num1:int = int(input(\"Enter number and i will give you a square value of it : \"))\n",
        "  print(f\"The square of {num1} is {num1 ** 2}\")\n",
        "\n",
        "if __name__ == \"__main__\":\n",
        "  square()"
      ],
      "metadata": {
        "colab": {
          "base_uri": "https://localhost:8080/"
        },
        "id": "1U365ReV0-_L",
        "outputId": "3f072cb3-4e00-4e77-c9ee-bc0e4df6d6b3"
      },
      "execution_count": null,
      "outputs": [
        {
          "output_type": "stream",
          "name": "stdout",
          "text": [
            "06_square_numbers\n",
            "This code is about square of given number\n",
            "Enter number and i will give you a square value of it : 8\n",
            "The square of 8 is 64\n"
          ]
        }
      ]
    }
  ]
}